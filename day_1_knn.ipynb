{
  "cells": [
    {
      "cell_type": "markdown",
      "metadata": {
        "id": "view-in-github",
        "colab_type": "text"
      },
      "source": [
        "<a href=\"https://colab.research.google.com/github/analytistic/machine-learning/blob/main/day_1_knn.ipynb\" target=\"_parent\"><img src=\"https://colab.research.google.com/assets/colab-badge.svg\" alt=\"Open In Colab\"/></a>"
      ]
    },
    {
      "cell_type": "markdown",
      "metadata": {
        "id": "SbC6bkLyj-Bx"
      },
      "source": [
        "# Day 1: Machine Learning Basics and Classification\n",
        "We will use Numpy for many matrix and array operations. Its user guide is available [here](https://numpy.org/doc/stable/user/basics.html)."
      ]
    },
    {
      "cell_type": "code",
      "execution_count": null,
      "metadata": {
        "id": "tXe5MUBEj-Bz"
      },
      "outputs": [],
      "source": [
        "# Import some libraries required later.\n",
        "import numpy as np\n",
        "\n",
        "# Set notebook to display matplotlib as an image. In Python it would usually be\n",
        "# a popup window, which does not work in a notebook.\n",
        "%matplotlib inline\n",
        "import matplotlib.pyplot as plt"
      ]
    },
    {
      "cell_type": "markdown",
      "metadata": {
        "id": "vsGrpR9Hj-B0"
      },
      "source": [
        "## Loading MNIST\n",
        "\n",
        "We first need a dataset. We will use the MNIST Digits dataset for this lab. We can load the dataset using [`load_digits`](https://scikit-learn.org/stable/modules/generated/sklearn.datasets.load_digits.html) from [`scikit-learn`](https://scikit-learn.org/stable/user_guide.html).\n",
        "\n",
        "Let's load the dataset into `digits`:"
      ]
    },
    {
      "cell_type": "code",
      "execution_count": null,
      "metadata": {
        "id": "3e0gmy5bj-B0"
      },
      "outputs": [],
      "source": [
        "from sklearn.datasets import load_digits\n",
        "digits = load_digits()"
      ]
    },
    {
      "cell_type": "markdown",
      "metadata": {
        "id": "zgZb7dB35Zym"
      },
      "source": [
        "Now to see some data about the dataset:"
      ]
    },
    {
      "cell_type": "code",
      "execution_count": null,
      "metadata": {
        "id": "_-gFX97J5d4n",
        "colab": {
          "base_uri": "https://localhost:8080/"
        },
        "outputId": "b62e8e5e-e7ff-4958-e5d6-5dc153ef4812"
      },
      "outputs": [
        {
          "output_type": "stream",
          "name": "stdout",
          "text": [
            "Data type: <class 'sklearn.utils._bunch.Bunch'>\n",
            "Description: .. _digits_dataset:\n",
            "\n",
            "Optical recognition of handwritten digits dataset\n",
            "--------------------------------------------------\n",
            "\n",
            "**Data Set Characteristics:**\n",
            "\n",
            "    :Number of Instances: 1797\n",
            "    :Number of Attributes: 64\n",
            "    :Attribute Information: 8x8 image of integer pixels in the range 0..16.\n",
            "    :Missing Attribute Values: None\n",
            "    :Creator: E. Alpaydin (alpaydin '@' boun.edu.tr)\n",
            "    :Date: July; 1998\n",
            "\n",
            "This is a copy of the test set of the UCI ML hand-written digits datasets\n",
            "https://archive.ics.uci.edu/ml/datasets/Optical+Recognition+of+Handwritten+Digits\n",
            "\n",
            "The data set contains images of hand-written digits: 10 classes where\n",
            "each class refers to a digit.\n",
            "\n",
            "Preprocessing programs made available by NIST were used to extract\n",
            "normalized bitmaps of handwritten digits from a preprinted form. From a\n",
            "total of 43 people, 30 contributed to the training set and different 13\n",
            "to the test set. 32x32 bitmaps are divided into nonoverlapping blocks of\n",
            "4x4 and the number of on pixels are counted in each block. This generates\n",
            "an input matrix of 8x8 where each element is an integer in the range\n",
            "0..16. This reduces dimensionality and gives invariance to small\n",
            "distortions.\n",
            "\n",
            "For info on NIST preprocessing routines, see M. D. Garris, J. L. Blue, G.\n",
            "T. Candela, D. L. Dimmick, J. Geist, P. J. Grother, S. A. Janet, and C.\n",
            "L. Wilson, NIST Form-Based Handprint Recognition System, NISTIR 5469,\n",
            "1994.\n",
            "\n",
            ".. topic:: References\n",
            "\n",
            "  - C. Kaynak (1995) Methods of Combining Multiple Classifiers and Their\n",
            "    Applications to Handwritten Digit Recognition, MSc Thesis, Institute of\n",
            "    Graduate Studies in Science and Engineering, Bogazici University.\n",
            "  - E. Alpaydin, C. Kaynak (1998) Cascading Classifiers, Kybernetika.\n",
            "  - Ken Tang and Ponnuthurai N. Suganthan and Xi Yao and A. Kai Qin.\n",
            "    Linear dimensionalityreduction using relevance weighted LDA. School of\n",
            "    Electrical and Electronic Engineering Nanyang Technological University.\n",
            "    2005.\n",
            "  - Claudio Gentile. A New Approximate Maximal Margin Classification\n",
            "    Algorithm. NIPS. 2000.\n",
            "\n",
            "Dataset shape (data): (1797, 64)\n",
            "Dataset shape (targets): (1797,)\n",
            "Data range: min 0.0, max 16.0\n",
            "Target range: min 0, max 9\n",
            "First sample is of type <class 'numpy.ndarray'>\n"
          ]
        }
      ],
      "source": [
        "print('Data type:', type(digits))\n",
        "print('Description:', digits['DESCR'])\n",
        "print('Dataset shape (data):', digits.data.shape)\n",
        "print('Dataset shape (targets):', digits.target.shape)\n",
        "print(f'Data range: min {np.min(digits.data)}, max {np.max(digits.data)}')\n",
        "print(f'Target range: min {np.min(digits.target)}, max {np.max(digits.target)}')\n",
        "print('First sample is of type', type(digits.data[0]))"
      ]
    },
    {
      "cell_type": "markdown",
      "metadata": {
        "id": "UXvjj8NEYSoU"
      },
      "source": [
        "**Question 1:** How many samples are in the dataset?\n",
        "\n",
        "**Question 2:** What does the dataset contain?\n",
        "\n",
        "Let's take a look at some of the data."
      ]
    },
    {
      "cell_type": "code",
      "execution_count": null,
      "metadata": {
        "id": "AR03jkJh6CEI",
        "colab": {
          "base_uri": "https://localhost:8080/"
        },
        "outputId": "8a97fe78-e2b1-4e1c-be4b-60db18181831"
      },
      "outputs": [
        {
          "output_type": "stream",
          "name": "stdout",
          "text": [
            "Sample 1: [ 0.  0.  5. 13.  9.  1.  0.  0.  0.  0. 13. 15. 10. 15.  5.  0.  0.  3.\n",
            " 15.  2.  0. 11.  8.  0.  0.  4. 12.  0.  0.  8.  8.  0.  0.  5.  8.  0.\n",
            "  0.  9.  8.  0.  0.  4. 11.  0.  1. 12.  7.  0.  0.  2. 14.  5. 10. 12.\n",
            "  0.  0.  0.  0.  6. 13. 10.  0.  0.  0.]\n",
            "Sample 1 shape: (64,)\n",
            "Sample 1 belongs to class 0\n"
          ]
        }
      ],
      "source": [
        "print('Sample 1:', digits.data[0])\n",
        "print('Sample 1 shape:', digits.data[0].shape)\n",
        "print('Sample 1 belongs to class', digits.target[0])"
      ]
    },
    {
      "cell_type": "markdown",
      "metadata": {
        "id": "Z8FnYJSZX_wx"
      },
      "source": [
        "**Question 3:** What does a shape of `(64,)` mean?\n",
        "\n",
        "And to visualise this sample:"
      ]
    },
    {
      "cell_type": "code",
      "source": [
        "print(digits.target[0])"
      ],
      "metadata": {
        "colab": {
          "base_uri": "https://localhost:8080/"
        },
        "id": "tHQPdNz3sOm1",
        "outputId": "866bcb0b-0803-4878-aaa2-80dff05813dc"
      },
      "execution_count": null,
      "outputs": [
        {
          "output_type": "stream",
          "name": "stdout",
          "text": [
            "0\n"
          ]
        }
      ]
    },
    {
      "cell_type": "code",
      "execution_count": null,
      "metadata": {
        "id": "25aBsgeLWhQ5",
        "colab": {
          "base_uri": "https://localhost:8080/",
          "height": 447
        },
        "outputId": "73cbc785-f3c5-4029-85a2-85d2d900afdf"
      },
      "outputs": [
        {
          "output_type": "execute_result",
          "data": {
            "text/plain": [
              "<matplotlib.image.AxesImage at 0x78cb630de110>"
            ]
          },
          "metadata": {},
          "execution_count": 20
        },
        {
          "output_type": "display_data",
          "data": {
            "text/plain": [
              "<Figure size 640x480 with 1 Axes>"
            ],
            "image/png": "[encoded data removed]"
          },
          "metadata": {}
        }
      ],
      "source": [
        "plt.imshow(digits.data[0].reshape(8, 8), cmap='gray')"
      ]
    },
    {
      "cell_type": "markdown",
      "metadata": {
        "id": "mM133pg5XMsX"
      },
      "source": [
        "**Question 4:** What did calling `.reshape(8,8)` on the sample do?\n",
        "\n",
        "**Question 5:** Why is the minimum of `digits.target` 0 and the maximum 9?\n",
        "\n",
        "Now split the dataset into 80% training and 20% testing sets using the [`train_test_split`](https://scikit-learn.org/stable/modules/generated/sklearn.model_selection.train_test_split.html) utility function. This function also shuffles the dataset...\n",
        "\n",
        "It is important to shuffle your dataset if it has been sorted. If you don't, your training-testing split won't accurately represent the dataset's true distribution. For example, if the samples were in order from 0 to 9, your training set (first 80%) may not include any examples of the digit 9."
      ]
    },
    {
      "cell_type": "code",
      "execution_count": null,
      "metadata": {
        "id": "KAQJNVUYj-B1",
        "colab": {
          "base_uri": "https://localhost:8080/"
        },
        "outputId": "269213ca-bc43-439a-ecc5-9ae8941907c2"
      },
      "outputs": [
        {
          "output_type": "stream",
          "name": "stdout",
          "text": [
            "Training dataset samples: (1437, 64)\n",
            "Training dataset targets: (1437,)\n",
            "Testing dataset samples: (360, 64)\n",
            "Testing dataset targets: (360,)\n"
          ]
        }
      ],
      "source": [
        "from sklearn.model_selection import train_test_split\n",
        "\n",
        "X = digits.data\n",
        "y = digits.target\n",
        "\n",
        "# test_size is the proportion of the dataset to be returned in the testing set.\n",
        "# random_state forces the shuffling to be the same across runs.\n",
        "X_train, X_test, y_train, y_test = train_test_split(X, y, test_size=0.2,\n",
        "                                                    random_state=42)\n",
        "\n",
        "print('Training dataset samples:', X_train.shape)\n",
        "print('Training dataset targets:', y_train.shape)\n",
        "print('Testing dataset samples:', X_test.shape)\n",
        "print('Testing dataset targets:', y_test.shape)"
      ]
    },
    {
      "cell_type": "markdown",
      "metadata": {
        "id": "Yi2zYuskj-B1"
      },
      "source": [
        "## kNN classifier\n",
        "\n",
        "\n",
        "Let's simplify the problem for now and only try to identify one digit—for example, the number 5. This '5-detector' will be an example of a binary classifier, capable of distinguishing between just two classes, 5 and not-5. Let's create the target vectors for this classification task."
      ]
    },
    {
      "cell_type": "code",
      "execution_count": null,
      "metadata": {
        "id": "JkYfBiu2j-B2"
      },
      "outputs": [],
      "source": [
        "# Create arrays of boolean values where the corresponding element in\n",
        "# y_train/y_test equals 5.\n",
        "y_train_5 = (y_train == 5)\n",
        "y_test_5 = (y_test == 5)"
      ]
    },
    {
      "cell_type": "markdown",
      "metadata": {
        "id": "MDqIQn2H3QO0"
      },
      "source": [
        " Now let's create and train the classifier:"
      ]
    },
    {
      "cell_type": "code",
      "execution_count": null,
      "metadata": {
        "id": "CgA-96Bt3PZQ",
        "colab": {
          "base_uri": "https://localhost:8080/",
          "height": 74
        },
        "outputId": "43d8ad7d-444a-4ec4-b49a-fe024de66baa"
      },
      "outputs": [
        {
          "output_type": "execute_result",
          "data": {
            "text/plain": [
              "KNeighborsClassifier(n_neighbors=4, weights='distance')"
            ],
            "text/html": [
              "<style>#sk-container-id-2 {color: black;background-color: white;}#sk-container-id-2 pre{padding: 0;}#sk-container-id-2 div.sk-toggleable {background-color: white;}#sk-container-id-2 label.sk-toggleable__label {cursor: pointer;display: block;width: 100%;margin-bottom: 0;padding: 0.3em;box-sizing: border-box;text-align: center;}#sk-container-id-2 label.sk-toggleable__label-arrow:before {content: \"▸\";float: left;margin-right: 0.25em;color: #696969;}#sk-container-id-2 label.sk-toggleable__label-arrow:hover:before {color: black;}#sk-container-id-2 div.sk-estimator:hover label.sk-toggleable__label-arrow:before {color: black;}#sk-container-id-2 div.sk-toggleable__content {max-height: 0;max-width: 0;overflow: hidden;text-align: left;background-color: #f0f8ff;}#sk-container-id-2 div.sk-toggleable__content pre {margin: 0.2em;color: black;border-radius: 0.25em;background-color: #f0f8ff;}#sk-container-id-2 input.sk-toggleable__control:checked~div.sk-toggleable__content {max-height: 200px;max-width: 100%;overflow: auto;}#sk-container-id-2 input.sk-toggleable__control:checked~label.sk-toggleable__label-arrow:before {content: \"▾\";}#sk-container-id-2 div.sk-estimator input.sk-toggleable__control:checked~label.sk-toggleable__label {background-color: #d4ebff;}#sk-container-id-2 div.sk-label input.sk-toggleable__control:checked~label.sk-toggleable__label {background-color: #d4ebff;}#sk-container-id-2 input.sk-hidden--visually {border: 0;clip: rect(1px 1px 1px 1px);clip: rect(1px, 1px, 1px, 1px);height: 1px;margin: -1px;overflow: hidden;padding: 0;position: absolute;width: 1px;}#sk-container-id-2 div.sk-estimator {font-family: monospace;background-color: #f0f8ff;border: 1px dotted black;border-radius: 0.25em;box-sizing: border-box;margin-bottom: 0.5em;}#sk-container-id-2 div.sk-estimator:hover {background-color: #d4ebff;}#sk-container-id-2 div.sk-parallel-item::after {content: \"\";width: 100%;border-bottom: 1px solid gray;flex-grow: 1;}#sk-container-id-2 div.sk-label:hover label.sk-toggleable__label {background-color: #d4ebff;}#sk-container-id-2 div.sk-serial::before {content: \"\";position: absolute;border-left: 1px solid gray;box-sizing: border-box;top: 0;bottom: 0;left: 50%;z-index: 0;}#sk-container-id-2 div.sk-serial {display: flex;flex-direction: column;align-items: center;background-color: white;padding-right: 0.2em;padding-left: 0.2em;position: relative;}#sk-container-id-2 div.sk-item {position: relative;z-index: 1;}#sk-container-id-2 div.sk-parallel {display: flex;align-items: stretch;justify-content: center;background-color: white;position: relative;}#sk-container-id-2 div.sk-item::before, #sk-container-id-2 div.sk-parallel-item::before {content: \"\";position: absolute;border-left: 1px solid gray;box-sizing: border-box;top: 0;bottom: 0;left: 50%;z-index: -1;}#sk-container-id-2 div.sk-parallel-item {display: flex;flex-direction: column;z-index: 1;position: relative;background-color: white;}#sk-container-id-2 div.sk-parallel-item:first-child::after {align-self: flex-end;width: 50%;}#sk-container-id-2 div.sk-parallel-item:last-child::after {align-self: flex-start;width: 50%;}#sk-container-id-2 div.sk-parallel-item:only-child::after {width: 0;}#sk-container-id-2 div.sk-dashed-wrapped {border: 1px dashed gray;margin: 0 0.4em 0.5em 0.4em;box-sizing: border-box;padding-bottom: 0.4em;background-color: white;}#sk-container-id-2 div.sk-label label {font-family: monospace;font-weight: bold;display: inline-block;line-height: 1.2em;}#sk-container-id-2 div.sk-label-container {text-align: center;}#sk-container-id-2 div.sk-container {/* jupyter's `normalize.less` sets `[hidden] { display: none; }` but bootstrap.min.css set `[hidden] { display: none !important; }` so we also need the `!important` here to be able to override the default hidden behavior on the sphinx rendered scikit-learn.org. See: https://github.com/scikit-learn/scikit-learn/issues/21755 */display: inline-block !important;position: relative;}#sk-container-id-2 div.sk-text-repr-fallback {display: none;}</style><div id=\"sk-container-id-2\" class=\"sk-top-container\"><div class=\"sk-text-repr-fallback\"><pre>KNeighborsClassifier(n_neighbors=4, weights=&#x27;distance&#x27;)</pre><b>In a Jupyter environment, please rerun this cell to show the HTML representation or trust the notebook. <br />On GitHub, the HTML representation is unable to render, please try loading this page with nbviewer.org.</b></div><div class=\"sk-container\" hidden><div class=\"sk-item\"><div class=\"sk-estimator sk-toggleable\"><input class=\"sk-toggleable__control sk-hidden--visually\" id=\"sk-estimator-id-2\" type=\"checkbox\" checked><label for=\"sk-estimator-id-2\" class=\"sk-toggleable__label sk-toggleable__label-arrow\">KNeighborsClassifier</label><div class=\"sk-toggleable__content\"><pre>KNeighborsClassifier(n_neighbors=4, weights=&#x27;distance&#x27;)</pre></div></div></div></div></div>"
            ]
          },
          "metadata": {},
          "execution_count": 48
        }
      ],
      "source": [
        "from sklearn.neighbors import KNeighborsClassifier\n",
        "\n",
        "knn_clf = KNeighborsClassifier(weights='distance', n_neighbors=4)\n",
        "knn_clf.fit(X_train, y_train_5)"
      ]
    },
    {
      "cell_type": "markdown",
      "metadata": {
        "id": "LVI-Deez1bq1"
      },
      "source": [
        "And now test it with some inputs:"
      ]
    },
    {
      "cell_type": "code",
      "source": [
        "rows, cols = 5, 5\n",
        "fig, ax = plt.subplots(rows, cols)\n",
        "num_samples = min(rows * cols, len(X_test))\n",
        "ax = ax.flatten()\n",
        "#print(num_samples)\n",
        "for num in range(num_samples):\n",
        "    sample = X_test[num]\n",
        "    ax[num].imshow(sample.reshape(8, 8), cmap='gray')\n",
        "    prediction = knn_clf.predict([sample])\n",
        "    print(prediction)\n",
        "    ax[num].set_title('Is a 5' if prediction else 'Not a 5')\n",
        "    ax[num].set_axis_off()\n"
      ],
      "metadata": {
        "colab": {
          "base_uri": "https://localhost:8080/",
          "height": 862
        },
        "id": "E8iRMduB9cMr",
        "outputId": "42727b89-9e75-400f-a9e7-185335195bb3"
      },
      "execution_count": null,
      "outputs": [
        {
          "output_type": "stream",
          "name": "stdout",
          "text": [
            "[False]\n",
            "[False]\n",
            "[False]\n",
            "[False]\n",
            "[False]\n",
            "[False]\n",
            "[ True]\n",
            "[False]\n",
            "[ True]\n",
            "[False]\n",
            "[False]\n",
            "[False]\n",
            "[False]\n",
            "[False]\n",
            "[False]\n",
            "[False]\n",
            "[False]\n",
            "[False]\n",
            "[False]\n",
            "[False]\n",
            "[False]\n",
            "[False]\n",
            "[False]\n",
            "[False]\n",
            "[ True]\n"
          ]
        },
        {
          "output_type": "display_data",
          "data": {
            "text/plain": [
              "<Figure size 640x480 with 25 Axes>"
            ],
            "image/png": "[encoded data removed]"
          },
          "metadata": {}
        }
      ]
    },
    {
      "cell_type": "code",
      "execution_count": null,
      "metadata": {
        "id": "l5z9bkCNj-B2",
        "colab": {
          "base_uri": "https://localhost:8080/",
          "height": 346
        },
        "outputId": "bab9a646-059d-44f2-d3cb-61273fd235fa"
      },
      "outputs": [
        {
          "output_type": "display_data",
          "data": {
            "text/plain": [
              "<Figure size 640x480 with 10 Axes>"
            ],
            "image/png": "[encoded data removed]"
          },
          "metadata": {}
        }
      ],
      "source": [
        "rows, cols = 2, 5\n",
        "fig, ax = plt.subplots(rows, cols)\n",
        "ax = ax.flatten()\n",
        "for num, sample in enumerate(X_test[:rows*cols]):\n",
        "    ax[num].imshow(sample.reshape(8, 8), cmap='gray')\n",
        "    ax[num].set_title('Is a 5' if knn_clf.predict([sample]) else 'Not a 5')\n",
        "    ax[num].set_axis_off()\n",
        "\n",
        "plt.show()"
      ]
    },
    {
      "cell_type": "markdown",
      "metadata": {
        "id": "CarfJHv9j-B3"
      },
      "source": [
        "## Performance Measures\n",
        "\n",
        "Evaluating a classifier is often significantly trickier than evaluating a regressor, so we will spend a large part of this chapter on this topic. There are many performance measures available...\n",
        "\n",
        "A good way to evaluate a model is to use cross-validation. Let's use the [`cross_val_score`](https://scikit-learn.org/stable/modules/generated/sklearn.model_selection.cross_val_score.html?highlight=cross_val_score#sklearn.model_selection.cross_val_score) function to evaluate your kNN model using k-fold cross-validation, with three folds (k=3). Remember that k-fold cross-validation means splitting the training set into k-folds (in this case, three), then making predictions and evaluating them on each fold using a model trained on the remaining folds.\n",
        "\n",
        "### Measuring Accuracy Using Cross-Validation"
      ]
    },
    {
      "cell_type": "code",
      "execution_count": null,
      "metadata": {
        "id": "zZkMzJTpj-B3",
        "colab": {
          "base_uri": "https://localhost:8080/"
        },
        "outputId": "d378ba8f-cd37-460c-d062-1932ae830ce5"
      },
      "outputs": [
        {
          "output_type": "stream",
          "name": "stdout",
          "text": [
            "[1.         0.99442897 1.         1.        ]\n"
          ]
        }
      ],
      "source": [
        "from sklearn.model_selection import cross_val_score\n",
        "\n",
        "print(cross_val_score(knn_clf, X_train, y_train_5, cv=4, scoring='accuracy'))"
      ]
    },
    {
      "cell_type": "markdown",
      "metadata": {
        "id": "01g2mcrlj-B3"
      },
      "source": [
        "### Confusion Matrix\n",
        "\n",
        "A much better way to evaluate the performance of a classifier is to look at the confusion matrix. The general idea is to count the number of times instances of class A are classified as class B. For example, to know the number of times the classifier confused images of 5s with 3s, you would look in the 5th row and 3rd column of the confusion matrix.\n",
        "\n",
        "To compute the confusion matrix, you first need to have a set of predictions, so they can be compared to the actual targets. You could make predictions on the test set, but let’s keep it untouched for now (remember that you want to use the test set only at the very end of your project, once you have a classifier that you are ready to launch). Instead, you can use the [`cross_val_predict`](https://scikit-learn.org/stable/modules/generated/sklearn.model_selection.cross_val_predict.html?highlight=cross_val_predict) function. Just like the `cross_val_score` function, `cross_val_predict` performs k-fold cross-validation, but instead of returning the evaluation scores, it returns the predictions made on each test fold. This means that you get a clean prediction for each instance in the training set ('clean' meaning that the prediction is made by a model that never saw the data during training).\n",
        "\n",
        "Now you are ready to get the confusion matrix using the [`confusion_matrix`](https://scikit-learn.org/stable/modules/generated/sklearn.metrics.confusion_matrix.html?highlight=confusion_matrix) function. Just pass it the target classes (`y_train_5`) and the predicted classes (`y_train_pred`):"
      ]
    },
    {
      "cell_type": "code",
      "execution_count": null,
      "metadata": {
        "id": "vkYeC44-j-B4",
        "colab": {
          "base_uri": "https://localhost:8080/"
        },
        "outputId": "3cb1c95a-1e5c-4966-c232-d96996ddd336"
      },
      "outputs": [
        {
          "output_type": "stream",
          "name": "stdout",
          "text": [
            "1437\n",
            "[[1301    1]\n",
            " [   4  131]]\n"
          ]
        }
      ],
      "source": [
        "from sklearn.model_selection import cross_val_predict\n",
        "from sklearn.metrics import confusion_matrix\n",
        "\n",
        "y_train_pred = cross_val_predict(knn_clf, X_train, y_train_5, cv=3)\n",
        "print(len(y_train_pred))\n",
        "print(confusion_matrix(y_train_5, y_train_pred))"
      ]
    },
    {
      "cell_type": "markdown",
      "metadata": {
        "id": "VxliwRbEj-B4"
      },
      "source": [
        "Each row in a confusion matrix represents an actual class, while each column represents a predicted class. The first row of this matrix considers non-5 images (the negative class): 1,301 of them were correctly classified as non-5s (they are called true negatives), while the remaining 1 was wrongly classified as 5s (false positives). The second row considers the images of 5s (the positive class): 4 were wrongly classified as non-5s (false negatives), while the remaining 131 were correctly classified as 5s (true positives). A perfect classifier would have only true positives and true negatives, so its confusion matrix would have nonzero values only on its main diagonal (top left to bottom right)."
      ]
    },
    {
      "cell_type": "markdown",
      "metadata": {
        "id": "3UTzmkbWj-B5"
      },
      "source": [
        "### Precision and Recall\n",
        "\n",
        "The confusion matrix gives you a lot of information, but sometimes you may prefer a more concise metric. An interesting one to look at is the accuracy of the positive predictions; this is called the precision of the classifier:\n",
        "\n",
        "\\begin{equation}\n",
        "precision = \\frac{TP}{TP+FP}\n",
        "\\end{equation}\n",
        "\n",
        "TP is the number of true positives, and FP is the number of false positives.\n",
        "\n",
        "A trivial way to have perfect precision is to make one single positive prediction and ensure it is correct (precision = 1/1 = 100%). This would not be very useful since the classifier would ignore all but one positive instance. So precision is typically used along with another metric named recall, also called sensitivity or true positive rate (TPR): this is the ratio of positive instances that are correctly detected by the classifier:\n",
        "\n",
        "\\begin{equation}\n",
        "recall = \\frac{TP}{TP+FN}\n",
        "\\end{equation}\n",
        "\n",
        "FN is of course the number of false negatives.\n",
        "\n",
        "We can use [`precision_score`](https://scikit-learn.org/stable/modules/generated/sklearn.metrics.precision_score.html?highlight=precision%20score#sklearn.metrics.precision_score) and [`recall_score`](https://scikit-learn.org/stable/modules/generated/sklearn.metrics.recall_score.html?highlight=recall%20score#sklearn.metrics.recall_score) from scikit-learn."
      ]
    },
    {
      "cell_type": "code",
      "execution_count": null,
      "metadata": {
        "id": "lNbMXqzuj-B5",
        "colab": {
          "base_uri": "https://localhost:8080/"
        },
        "outputId": "e71d4075-ca89-412d-b094-278fe3234a14"
      },
      "outputs": [
        {
          "output_type": "stream",
          "name": "stdout",
          "text": [
            "0.9924242424242424\n"
          ]
        }
      ],
      "source": [
        "from sklearn.metrics import precision_score, recall_score\n",
        "\n",
        "print(precision_score(y_train_5, y_train_pred))"
      ]
    },
    {
      "cell_type": "code",
      "execution_count": null,
      "metadata": {
        "id": "SZ65h2E9j-B6",
        "colab": {
          "base_uri": "https://localhost:8080/"
        },
        "outputId": "017bfef3-6db0-4e27-b995-a6f87d327730"
      },
      "outputs": [
        {
          "output_type": "stream",
          "name": "stdout",
          "text": [
            "0.9703703703703703\n"
          ]
        }
      ],
      "source": [
        "# Your code here: compute the recall_score\n",
        "\n",
        "print(recall_score(y_train_5, y_train_pred))"
      ]
    },
    {
      "cell_type": "markdown",
      "metadata": {
        "id": "N-iSaZ1uj-B6"
      },
      "source": [
        "It is often convenient to combine precision and recall into a single metric called the F1 score, in particular if you need a simple way to compare two classifiers. The F1 score is the harmonic mean of precision and recall. Whereas the regular mean treats all values equally, the harmonic mean gives much more weight to low values. As a result, the classifier will only get a high F1 score if both recall and precision are high.\n",
        "\n",
        "\n",
        "\n",
        "\n",
        "\n",
        "\n",
        "\n",
        "\\begin{equation}\n",
        "F1 = 2 \\times \\frac{precision \\times recall}{precision+recall}\n",
        "\\end{equation}\n",
        "\n"
      ]
    },
    {
      "cell_type": "code",
      "execution_count": null,
      "metadata": {
        "id": "ExnhgMl0j-B6",
        "colab": {
          "base_uri": "https://localhost:8080/"
        },
        "outputId": "016ede98-f00b-47cc-bc86-99caa45bbc45"
      },
      "outputs": [
        {
          "output_type": "stream",
          "name": "stdout",
          "text": [
            "0.9812734082397003\n"
          ]
        }
      ],
      "source": [
        "from sklearn.metrics import f1_score\n",
        "# Your code here: compute the f1_score\n",
        "print(f1_score(y_train_5, y_train_pred))"
      ]
    },
    {
      "cell_type": "markdown",
      "source": [],
      "metadata": {
        "id": "IEtm8KcfZ93K"
      }
    },
    {
      "cell_type": "markdown",
      "metadata": {
        "id": "YGkhsnYzj-B7"
      },
      "source": [
        "The F1 score favours classifiers that have similar precision and recall. This is not always what you want: in some contexts you mostly care about precision, and in other contexts you really care about recall. For example, if you trained a classifier to detect videos that are safe for kids, you would probably prefer a classifier that rejects many good videos (low recall) but keeps only safe ones (high precision), rather than a classifier that has a much higher recall but lets a few really bad videos show up in your product (in such cases, you may even want to add a human pipeline to check the classifier’s video selection). On the other hand, suppose you train a classifier to detect shoplifters on surveillance images: it is probably fine if your classifier has only 30% precision as long as it has 99% recall (sure, the security guards will get a few false alerts, but almost all shoplifters will get caught).\n",
        "\n",
        "Unfortunately, you can’t have it both ways: increasing precision reduces recall, and vice versa. This is called the precision/recall tradeoff."
      ]
    },
    {
      "cell_type": "markdown",
      "metadata": {
        "id": "8_v0JIXGj-B7"
      },
      "source": [
        "### ROC curves\n",
        "\n",
        "The receiver operating characteristic (ROC) curve is another common tool used with binary classifiers. It is very similar to the precision/recall curve, but instead of plotting precision versus recall, the ROC curve plots the true positive rate (another name for recall) against the false positive rate. The FPR is the ratio of negative instances that are incorrectly classified as positive. It is equal to one minus the true negative rate, which is the ratio of negative instances that are correctly classified as negative. The TNR is also called specificity. Hence the ROC curve plots sensitivity (recall) versus 1 – specificity.\n",
        "\n",
        "To plot the ROC curve, you first need to compute the TPR and FPR for various threshold values, using the roc_curve() function:"
      ]
    },
    {
      "cell_type": "code",
      "execution_count": null,
      "metadata": {
        "id": "c2a-iXFgj-B7"
      },
      "outputs": [],
      "source": [
        "def plot_roc_curve(fpr, tpr, label=None):\n",
        "    plt.plot(fpr, tpr, linewidth=2, label=label)\n",
        "    plt.plot([0, 1], [0, 1], 'k--')\n",
        "    plt.axis([0, 1, 0, 1])\n",
        "    plt.xlabel('False Positive Rate', fontsize=16)\n",
        "    plt.ylabel('True Positive Rate', fontsize=16)"
      ]
    },
    {
      "cell_type": "code",
      "execution_count": null,
      "metadata": {
        "id": "QDLDZOwfj-B8"
      },
      "outputs": [],
      "source": [
        "from sklearn.model_selection import cross_val_predict\n",
        "y_probas_knn = cross_val_predict(knn_clf, X_train, y_train_5, cv=3,\n",
        "                                 method='predict_proba')"
      ]
    },
    {
      "cell_type": "code",
      "execution_count": null,
      "metadata": {
        "id": "Y_tasr11j-B8"
      },
      "outputs": [],
      "source": [
        "from sklearn.metrics import roc_curve\n",
        "y_scores_knn = y_probas_knn[:, 1]  # score = proba of positive class\n",
        "fpr_knn, tpr_knn, thresholds_knn = roc_curve(y_train_5, y_scores_knn)"
      ]
    },
    {
      "cell_type": "code",
      "execution_count": null,
      "metadata": {
        "id": "uKY2t-HVj-B8",
        "colab": {
          "base_uri": "https://localhost:8080/",
          "height": 553
        },
        "outputId": "16a89470-227b-40b5-f38a-49f817c9ca48"
      },
      "outputs": [
        {
          "output_type": "display_data",
          "data": {
            "text/plain": [
              "<Figure size 800x600 with 1 Axes>"
            ],
            "image/png": "[encoded data removed]"
          },
          "metadata": {}
        }
      ],
      "source": [
        "plt.figure(figsize=(8, 6))\n",
        "plot_roc_curve(fpr_knn, tpr_knn, 'kNN')\n",
        "plt.legend(loc='lower right', fontsize=16)\n",
        "plt.show()"
      ]
    },
    {
      "cell_type": "markdown",
      "metadata": {
        "id": "vHTVCD45j-B8"
      },
      "source": [
        "Once again there is a tradeoff: the higher the recall (TPR), the more false positives (FPR) the classifier produces. The dotted line represents the ROC curve of a purely random classifier; a good classifier stays as far away from that line as possible (toward the top-left corner).\n",
        "\n",
        "One way to compare classifiers is to measure the area under the curve (AUC). A perfect classifier will have a ROC AUC equal to 1, whereas a purely random classifier will have a ROC AUC equal to 0.5. Scikit-Learn provides a function to compute the ROC AUC:"
      ]
    },
    {
      "cell_type": "code",
      "execution_count": null,
      "metadata": {
        "id": "JUOZwXBKj-B9",
        "colab": {
          "base_uri": "https://localhost:8080/"
        },
        "outputId": "857ca06a-9cb7-4243-aee5-6fa2b5162879"
      },
      "outputs": [
        {
          "output_type": "execute_result",
          "data": {
            "text/plain": [
              "0.995858223815213"
            ]
          },
          "metadata": {},
          "execution_count": 68
        }
      ],
      "source": [
        "from sklearn.metrics import roc_auc_score\n",
        "roc_auc_score(y_train_5, y_scores_knn)"
      ]
    },
    {
      "cell_type": "markdown",
      "metadata": {
        "id": "iUMJtNnUj-B9"
      },
      "source": [
        "## Multiclass classification"
      ]
    },
    {
      "cell_type": "code",
      "execution_count": null,
      "metadata": {
        "id": "d_3P3AUdj-B9",
        "colab": {
          "base_uri": "https://localhost:8080/",
          "height": 74
        },
        "outputId": "344a6478-9bda-4334-c90a-c377eb1b3cbc"
      },
      "outputs": [
        {
          "output_type": "execute_result",
          "data": {
            "text/plain": [
              "KNeighborsClassifier(n_neighbors=4, weights='distance')"
            ],
            "text/html": [
              "<style>#sk-container-id-3 {color: black;background-color: white;}#sk-container-id-3 pre{padding: 0;}#sk-container-id-3 div.sk-toggleable {background-color: white;}#sk-container-id-3 label.sk-toggleable__label {cursor: pointer;display: block;width: 100%;margin-bottom: 0;padding: 0.3em;box-sizing: border-box;text-align: center;}#sk-container-id-3 label.sk-toggleable__label-arrow:before {content: \"▸\";float: left;margin-right: 0.25em;color: #696969;}#sk-container-id-3 label.sk-toggleable__label-arrow:hover:before {color: black;}#sk-container-id-3 div.sk-estimator:hover label.sk-toggleable__label-arrow:before {color: black;}#sk-container-id-3 div.sk-toggleable__content {max-height: 0;max-width: 0;overflow: hidden;text-align: left;background-color: #f0f8ff;}#sk-container-id-3 div.sk-toggleable__content pre {margin: 0.2em;color: black;border-radius: 0.25em;background-color: #f0f8ff;}#sk-container-id-3 input.sk-toggleable__control:checked~div.sk-toggleable__content {max-height: 200px;max-width: 100%;overflow: auto;}#sk-container-id-3 input.sk-toggleable__control:checked~label.sk-toggleable__label-arrow:before {content: \"▾\";}#sk-container-id-3 div.sk-estimator input.sk-toggleable__control:checked~label.sk-toggleable__label {background-color: #d4ebff;}#sk-container-id-3 div.sk-label input.sk-toggleable__control:checked~label.sk-toggleable__label {background-color: #d4ebff;}#sk-container-id-3 input.sk-hidden--visually {border: 0;clip: rect(1px 1px 1px 1px);clip: rect(1px, 1px, 1px, 1px);height: 1px;margin: -1px;overflow: hidden;padding: 0;position: absolute;width: 1px;}#sk-container-id-3 div.sk-estimator {font-family: monospace;background-color: #f0f8ff;border: 1px dotted black;border-radius: 0.25em;box-sizing: border-box;margin-bottom: 0.5em;}#sk-container-id-3 div.sk-estimator:hover {background-color: #d4ebff;}#sk-container-id-3 div.sk-parallel-item::after {content: \"\";width: 100%;border-bottom: 1px solid gray;flex-grow: 1;}#sk-container-id-3 div.sk-label:hover label.sk-toggleable__label {background-color: #d4ebff;}#sk-container-id-3 div.sk-serial::before {content: \"\";position: absolute;border-left: 1px solid gray;box-sizing: border-box;top: 0;bottom: 0;left: 50%;z-index: 0;}#sk-container-id-3 div.sk-serial {display: flex;flex-direction: column;align-items: center;background-color: white;padding-right: 0.2em;padding-left: 0.2em;position: relative;}#sk-container-id-3 div.sk-item {position: relative;z-index: 1;}#sk-container-id-3 div.sk-parallel {display: flex;align-items: stretch;justify-content: center;background-color: white;position: relative;}#sk-container-id-3 div.sk-item::before, #sk-container-id-3 div.sk-parallel-item::before {content: \"\";position: absolute;border-left: 1px solid gray;box-sizing: border-box;top: 0;bottom: 0;left: 50%;z-index: -1;}#sk-container-id-3 div.sk-parallel-item {display: flex;flex-direction: column;z-index: 1;position: relative;background-color: white;}#sk-container-id-3 div.sk-parallel-item:first-child::after {align-self: flex-end;width: 50%;}#sk-container-id-3 div.sk-parallel-item:last-child::after {align-self: flex-start;width: 50%;}#sk-container-id-3 div.sk-parallel-item:only-child::after {width: 0;}#sk-container-id-3 div.sk-dashed-wrapped {border: 1px dashed gray;margin: 0 0.4em 0.5em 0.4em;box-sizing: border-box;padding-bottom: 0.4em;background-color: white;}#sk-container-id-3 div.sk-label label {font-family: monospace;font-weight: bold;display: inline-block;line-height: 1.2em;}#sk-container-id-3 div.sk-label-container {text-align: center;}#sk-container-id-3 div.sk-container {/* jupyter's `normalize.less` sets `[hidden] { display: none; }` but bootstrap.min.css set `[hidden] { display: none !important; }` so we also need the `!important` here to be able to override the default hidden behavior on the sphinx rendered scikit-learn.org. See: https://github.com/scikit-learn/scikit-learn/issues/21755 */display: inline-block !important;position: relative;}#sk-container-id-3 div.sk-text-repr-fallback {display: none;}</style><div id=\"sk-container-id-3\" class=\"sk-top-container\"><div class=\"sk-text-repr-fallback\"><pre>KNeighborsClassifier(n_neighbors=4, weights=&#x27;distance&#x27;)</pre><b>In a Jupyter environment, please rerun this cell to show the HTML representation or trust the notebook. <br />On GitHub, the HTML representation is unable to render, please try loading this page with nbviewer.org.</b></div><div class=\"sk-container\" hidden><div class=\"sk-item\"><div class=\"sk-estimator sk-toggleable\"><input class=\"sk-toggleable__control sk-hidden--visually\" id=\"sk-estimator-id-3\" type=\"checkbox\" checked><label for=\"sk-estimator-id-3\" class=\"sk-toggleable__label sk-toggleable__label-arrow\">KNeighborsClassifier</label><div class=\"sk-toggleable__content\"><pre>KNeighborsClassifier(n_neighbors=4, weights=&#x27;distance&#x27;)</pre></div></div></div></div></div>"
            ]
          },
          "metadata": {},
          "execution_count": 69
        }
      ],
      "source": [
        "from sklearn.neighbors import KNeighborsClassifier\n",
        "knn_clf = KNeighborsClassifier(weights='distance', n_neighbors=4)\n",
        "knn_clf.fit(X_train, y_train)"
      ]
    },
    {
      "cell_type": "code",
      "execution_count": null,
      "metadata": {
        "id": "bONaaH4Bj-B9"
      },
      "outputs": [],
      "source": [
        "y_knn_pred = knn_clf.predict(X_test)"
      ]
    },
    {
      "cell_type": "code",
      "execution_count": null,
      "metadata": {
        "id": "qG3pVkfjj-B-",
        "colab": {
          "base_uri": "https://localhost:8080/"
        },
        "outputId": "0f4f5cb7-6f35-4c6c-816e-f3f1329bacdf"
      },
      "outputs": [
        {
          "output_type": "stream",
          "name": "stdout",
          "text": [
            "0.9833333333333333\n"
          ]
        }
      ],
      "source": [
        "from sklearn.metrics import accuracy_score\n",
        "print(accuracy_score(y_test, y_knn_pred))"
      ]
    },
    {
      "cell_type": "code",
      "execution_count": null,
      "metadata": {
        "id": "X3RHaJkUj-B-",
        "colab": {
          "base_uri": "https://localhost:8080/"
        },
        "outputId": "e52067b7-15dc-41e6-9a67-79fc6c805b0a"
      },
      "outputs": [
        {
          "output_type": "stream",
          "name": "stdout",
          "text": [
            "[[145   0   0   0   0   0   0   0   0   0]\n",
            " [  0 154   0   0   0   0   0   0   0   0]\n",
            " [  0   1 142   0   0   0   0   1   0   0]\n",
            " [  0   0   0 147   0   0   0   2   0   0]\n",
            " [  0   0   0   0 134   0   0   1   0   0]\n",
            " [  0   0   0   0   0 132   0   0   0   3]\n",
            " [  0   1   0   0   0   0 145   0   0   0]\n",
            " [  0   0   0   0   0   0   0 145   0   0]\n",
            " [  0   4   0   0   0   0   0   0 140   0]\n",
            " [  0   1   0   3   0   1   0   0   1 134]]\n"
          ]
        }
      ],
      "source": [
        "from sklearn.model_selection import cross_val_predict\n",
        "from sklearn.metrics import confusion_matrix\n",
        "\n",
        "y_train_pred = cross_val_predict(knn_clf, X_train, y_train, cv=3)\n",
        "conf_mx = confusion_matrix(y_train, y_train_pred)\n",
        "print(conf_mx)\n"
      ]
    },
    {
      "cell_type": "code",
      "execution_count": null,
      "metadata": {
        "id": "38hwIrIBj-B-",
        "colab": {
          "base_uri": "https://localhost:8080/",
          "height": 437
        },
        "outputId": "c27f8715-e01a-40af-bced-1887472717fd"
      },
      "outputs": [
        {
          "output_type": "display_data",
          "data": {
            "text/plain": [
              "<Figure size 480x480 with 1 Axes>"
            ],
            "image/png": "[encoded data removed]"
          },
          "metadata": {}
        }
      ],
      "source": [
        "plt.matshow(conf_mx, cmap='gray')\n",
        "plt.show()"
      ]
    },
    {
      "cell_type": "markdown",
      "metadata": {
        "id": "EKUH8vh-j-B_"
      },
      "source": [
        "## Exercises\n",
        "\n",
        "**Task 1:** Try to use the different *folds* of k-fold cross-validation to evaluate your kNN model."
      ]
    },
    {
      "cell_type": "code",
      "execution_count": null,
      "metadata": {
        "id": "lfXP1fDKwVrQ",
        "colab": {
          "base_uri": "https://localhost:8080/"
        },
        "outputId": "2490dd33-2509-4028-f25a-6421f9aae697"
      },
      "outputs": [
        {
          "output_type": "stream",
          "name": "stdout",
          "text": [
            "[[145   0   0   0   0   0   0   0   0   0]\n",
            " [  0 154   0   0   0   0   0   0   0   0]\n",
            " [  0   0 143   0   0   0   0   1   0   0]\n",
            " [  0   0   0 147   0   0   0   2   0   0]\n",
            " [  0   0   0   0 134   0   0   1   0   0]\n",
            " [  0   0   0   0   0 133   0   0   0   2]\n",
            " [  0   0   0   0   0   0 146   0   0   0]\n",
            " [  0   0   0   0   0   0   0 145   0   0]\n",
            " [  0   4   0   0   0   0   0   0 140   0]\n",
            " [  0   1   0   3   0   1   0   0   2 133]]\n",
            "0.988169798190675\n",
            "0.988291516687552\n",
            "0.9881444216306818\n"
          ]
        }
      ],
      "source": [
        "# change the \"cv\" parameter in the cross_val_predict function\n",
        "knn_clf = KNeighborsClassifier(weights='distance', n_neighbors=4)\n",
        "y_train_pred = cross_val_predict(knn_clf, X_train, y_train, cv=10)\n",
        "conf_mx = confusion_matrix(y_train, y_train_pred)\n",
        "print(conf_mx)\n",
        "print(recall_score(y_train, y_train_pred, average='weighted'))\n",
        "print(precision_score(y_train, y_train_pred, average='weighted'))\n",
        "print(f1_score(y_train, y_train_pred, average='weighted'))"
      ]
    },
    {
      "cell_type": "markdown",
      "metadata": {
        "id": "6gfAXB-oj-B_"
      },
      "source": [
        "**Task 2:** Try to use the different *n_neighbors* of kNN for the MNIST dataset.\n",
        "\n",
        "Then evaluate them (try  Confusion Matrix,  Precision,  Recall and ROC Curves). You can try to plot multiple ROC Curves into one figure (Hints: https://scikit-learn.org/stable/auto_examples/model_selection/plot_roc.html).\n",
        "\n"
      ]
    },
    {
      "cell_type": "code",
      "execution_count": null,
      "metadata": {
        "id": "GGJdDq9rwZyQ",
        "colab": {
          "base_uri": "https://localhost:8080/"
        },
        "outputId": "cfa29f4b-8395-4fd5-b14f-1b94641514d7"
      },
      "outputs": [
        {
          "output_type": "stream",
          "name": "stdout",
          "text": [
            "[[145   0   0   0   0   0   0   0   0   0]\n",
            " [  0 154   0   0   0   0   0   0   0   0]\n",
            " [  0   0 143   1   0   0   0   0   0   0]\n",
            " [  0   0   0 147   0   0   0   1   1   0]\n",
            " [  0   0   0   0 134   0   0   1   0   0]\n",
            " [  0   0   0   0   0 133   0   0   0   2]\n",
            " [  0   1   0   0   0   0 145   0   0   0]\n",
            " [  0   0   0   0   0   0   0 145   0   0]\n",
            " [  0   4   0   0   0   0   0   0 140   0]\n",
            " [  0   1   0   3   0   2   0   0   3 131]]\n",
            "0.9860821155184412\n",
            "0.9862212441606886\n",
            "0.986038851360759\n"
          ]
        }
      ],
      "source": [
        "# change 'n_neighbors' in KNeighborsClassifier\n",
        "\n",
        "knn_clf = KNeighborsClassifier(weights='distance', n_neighbors=2)\n",
        "y_train_pred = cross_val_predict(knn_clf, X_train, y_train, cv=5)\n",
        "conf_mx = confusion_matrix(y_train, y_train_pred)\n",
        "print(conf_mx)\n",
        "print(recall_score(y_train, y_train_pred, average='weighted'))\n",
        "print(precision_score(y_train, y_train_pred, average='weighted'))\n",
        "print(f1_score(y_train, y_train_pred, average='weighted'))"
      ]
    },
    {
      "cell_type": "markdown",
      "metadata": {
        "id": "DvDqe_ffj-B_"
      },
      "source": [
        "**Task 3:** A more challenging exercise: Try to choose optimal value of *n_neighbors* of KNN with the help of cross validation."
      ]
    },
    {
      "cell_type": "code",
      "execution_count": 3,
      "metadata": {
        "id": "w0NqiHKi52lR",
        "colab": {
          "base_uri": "https://localhost:8080/",
          "height": 211
        },
        "outputId": "45d1be8e-d81e-4540-85b4-8817d4f9d726"
      },
      "outputs": [
        {
          "output_type": "error",
          "ename": "NameError",
          "evalue": "name 'cross_val_predict' is not defined",
          "traceback": [
            "\u001b[0;31m---------------------------------------------------------------------------\u001b[0m",
            "\u001b[0;31mNameError\u001b[0m                                 Traceback (most recent call last)",
            "\u001b[0;32m<ipython-input-3-85b7b7d56e7d>\u001b[0m in \u001b[0;36m<cell line: 23>\u001b[0;34m()\u001b[0m\n\u001b[1;32m     24\u001b[0m   \u001b[0;31m# 训练模型,cv为10\u001b[0m\u001b[0;34m\u001b[0m\u001b[0;34m\u001b[0m\u001b[0m\n\u001b[1;32m     25\u001b[0m   \u001b[0mknn_clf\u001b[0m \u001b[0;34m=\u001b[0m \u001b[0mKNeighborsClassifier\u001b[0m\u001b[0;34m(\u001b[0m\u001b[0mweights\u001b[0m\u001b[0;34m=\u001b[0m\u001b[0;34m'distance'\u001b[0m\u001b[0;34m,\u001b[0m \u001b[0mn_neighbors\u001b[0m\u001b[0;34m=\u001b[0m\u001b[0mk\u001b[0m\u001b[0;34m)\u001b[0m\u001b[0;34m\u001b[0m\u001b[0;34m\u001b[0m\u001b[0m\n\u001b[0;32m---> 26\u001b[0;31m   \u001b[0my_train_pred\u001b[0m \u001b[0;34m=\u001b[0m \u001b[0mcross_val_predict\u001b[0m\u001b[0;34m(\u001b[0m\u001b[0mknn_clf\u001b[0m\u001b[0;34m,\u001b[0m \u001b[0mX_train\u001b[0m\u001b[0;34m,\u001b[0m \u001b[0my_train\u001b[0m\u001b[0;34m,\u001b[0m \u001b[0mcv\u001b[0m\u001b[0;34m=\u001b[0m\u001b[0;36m10\u001b[0m\u001b[0;34m)\u001b[0m\u001b[0;34m\u001b[0m\u001b[0;34m\u001b[0m\u001b[0m\n\u001b[0m\u001b[1;32m     27\u001b[0m   \u001b[0;31m# print(conf_mx = confusion_matrix(y_train, y_train_pred))\u001b[0m\u001b[0;34m\u001b[0m\u001b[0;34m\u001b[0m\u001b[0m\n\u001b[1;32m     28\u001b[0m \u001b[0;34m\u001b[0m\u001b[0m\n",
            "\u001b[0;31mNameError\u001b[0m: name 'cross_val_predict' is not defined"
          ]
        }
      ],
      "source": [
        "# choose optimal value of n_neighbors of KNN with the help of cross validation\n",
        "import numpy as np\n",
        "from sklearn.neighbors import KNeighborsClassifier\n",
        "from sklearn.metrics import recall_score, f1_score, precision_score\n",
        "%matplotlib inline\n",
        "import matplotlib.pyplot as plt\n",
        "\n",
        "# 载数据集\n",
        "from sklearn.datasets import load_digits\n",
        "digits = load_digits()\n",
        "X = digits.data\n",
        "y = digits.target\n",
        "\n",
        "# 初始结果列表\n",
        "recalls_list = []\n",
        "precision_list = []\n",
        "f1_list = []\n",
        "\n",
        "\n",
        "\n",
        "# 遍历k值\n",
        "k_values = range(1, 15)\n",
        "for k in k_values:\n",
        "  # 训练模型,cv为10\n",
        "  knn_clf = KNeighborsClassifier(weights='distance', n_neighbors=k)\n",
        "  y_train_pred = cross_val_predict(knn_clf, X_train, y_train, cv=10)\n",
        "  # print(conf_mx = confusion_matrix(y_train, y_train_pred))\n",
        "\n",
        "  # 计算精确率，召回率，f1\n",
        "  recall = recall_score(y_train, y_train_pred, average='weighted')  # 使用加权平均\n",
        "  precision = precision_score(y_train, y_train_pred, average='weighted') # 使用加权平均\n",
        "  f1 = f1_score(y_train, y_train_pred, average='weighted')  # 使用加权平均\n",
        "\n",
        "  #结果添加到列表中\n",
        "  recalls_list.append(recall)\n",
        "  precision_list.append(precision)\n",
        "  f1_list.append(f1)\n",
        "\n",
        "\n",
        "print('precison:', precision_list)\n",
        "print('recalls:', recalls_list)\n",
        "print('f1:', f1_list)\n",
        "\n",
        "# 绘制图表\n",
        "plt.figure(figsize=(15, 10))\n",
        "plt.plot(k_values, precision_list, marker='.', label='precision')\n",
        "plt.plot(k_values, recalls_list, marker='*', label='Recall')\n",
        "plt.plot(k_values, f1_list, marker='o', label='F1 Score')\n",
        "plt.xlabel('k value')\n",
        "plt.grid(True)\n",
        "plt.legend()\n",
        "plt.show()\n",
        "\n"
      ]
    },
    {
      "cell_type": "markdown",
      "source": [
        "# 新段落"
      ],
      "metadata": {
        "id": "8vlxHe-U1Nrd"
      }
    }
  ],
  "metadata": {
    "colab": {
      "provenance": [],
      "toc_visible": true,
      "include_colab_link": true
    },
    "kernelspec": {
      "display_name": "Python 3 (ipykernel)",
      "language": "python",
      "name": "python3"
    },
    "language_info": {
      "codemirror_mode": {
        "name": "ipython",
        "version": 3
      },
      "file_extension": ".py",
      "mimetype": "text/x-python",
      "name": "python",
      "nbconvert_exporter": "python",
      "pygments_lexer": "ipython3",
      "version": "3.9.7"
    },
    "nav_menu": {},
    "toc": {
      "base_numbering": 1,
      "nav_menu": {},
      "number_sections": true,
      "sideBar": true,
      "skip_h1_title": false,
      "title_cell": "Table of Contents",
      "title_sidebar": "Contents",
      "toc_cell": false,
      "toc_position": {},
      "toc_section_display": "block",
      "toc_window_display": false
    }
  },
  "nbformat": 4,
  "nbformat_minor": 0
}